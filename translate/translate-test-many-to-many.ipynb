{
 "cells": [
  {
   "cell_type": "markdown",
   "id": "9e705534-49cd-40e1-a420-8bcbffb423c1",
   "metadata": {},
   "source": [
    "## 독일어 -> 영어"
   ]
  },
  {
   "cell_type": "code",
   "execution_count": 65,
   "id": "8f490c4b-ca9d-486e-a72c-d2c7c396174e",
   "metadata": {},
   "outputs": [
    {
     "data": {
      "application/vnd.jupyter.widget-view+json": {
       "model_id": "8e6083d026414d888b7b69c21bcdfc90",
       "version_major": 2,
       "version_minor": 0
      },
      "text/plain": [
       "config.json:   0%|          | 0.00/1.43k [00:00<?, ?B/s]"
      ]
     },
     "metadata": {},
     "output_type": "display_data"
    },
    {
     "data": {
      "application/vnd.jupyter.widget-view+json": {
       "model_id": "ea8b133b46fd43fbacda194bb5398cbe",
       "version_major": 2,
       "version_minor": 0
      },
      "text/plain": [
       "model.safetensors:   0%|          | 0.00/2.44G [00:00<?, ?B/s]"
      ]
     },
     "metadata": {},
     "output_type": "display_data"
    },
    {
     "data": {
      "application/vnd.jupyter.widget-view+json": {
       "model_id": "67abb5e99da34a01bfb28f6048bb98d8",
       "version_major": 2,
       "version_minor": 0
      },
      "text/plain": [
       "generation_config.json:   0%|          | 0.00/261 [00:00<?, ?B/s]"
      ]
     },
     "metadata": {},
     "output_type": "display_data"
    },
    {
     "data": {
      "application/vnd.jupyter.widget-view+json": {
       "model_id": "069dac21fc80443985f4d3630ffcf399",
       "version_major": 2,
       "version_minor": 0
      },
      "text/plain": [
       "tokenizer_config.json:   0%|          | 0.00/529 [00:00<?, ?B/s]"
      ]
     },
     "metadata": {},
     "output_type": "display_data"
    },
    {
     "data": {
      "application/vnd.jupyter.widget-view+json": {
       "model_id": "96feecd22e144e4781014dd908013f3d",
       "version_major": 2,
       "version_minor": 0
      },
      "text/plain": [
       "sentencepiece.bpe.model:   0%|          | 0.00/5.07M [00:00<?, ?B/s]"
      ]
     },
     "metadata": {},
     "output_type": "display_data"
    },
    {
     "data": {
      "application/vnd.jupyter.widget-view+json": {
       "model_id": "8b6b91f048f747249eba615787a23e33",
       "version_major": 2,
       "version_minor": 0
      },
      "text/plain": [
       "special_tokens_map.json:   0%|          | 0.00/649 [00:00<?, ?B/s]"
      ]
     },
     "metadata": {},
     "output_type": "display_data"
    },
    {
     "data": {
      "text/plain": [
       "['Structural property relationships in heterocycles represent a cross-disciplinary subject under which research activities of participating working groups are brought together. The topic ranges from theory on synthetic aspects to the use of heterocycles for the complexion of ions or as switches for macroscopic properties. Theoretical calculations are carried out on transition structures in enantioselective synthesis, on (supermolecular) molecular geometry and on electronic excitation energies. (Stereo)selective synthesis, problems of biosynthesis as well as mechanisms of heterogeneous catalysis and electropolymerization are investigated. The effects of light-protectors and electrocrystalization additives are clarified. The complexion formation by macroheterocyclic ligands is studied thermodynamically. Finally, switching processes for the flow and phase behaviour of tensile systems']"
      ]
     },
     "execution_count": 65,
     "metadata": {},
     "output_type": "execute_result"
    }
   ],
   "source": [
    "from transformers import MBartForConditionalGeneration, MBart50TokenizerFast\n",
    "\n",
    "article_hi = \"Struktur-Eigenschafts-Beziehungen bei Heterocyclen stellen ein fächerübergreifendes Thema dar, unter welchem Forschungsaktivitäten beteiligter Arbeitsgruppen zusammengeführt werden. Die Thematik reicht von der Theorie über synthetische Aspekte bis zum Einsatz von Heterocyclen zur Komplexierung von Ionen bzw. als Schalter für makroskopische Eigenschaften. Theoretische Berechnungen werden zu Übergangsstrukturen in der enantioselektiven Synthese, zu (supramolekularen) Molekülgeometrien und zu elektronischen Anregungsenergien durchgeführt. (Stereo)selektive Synthesen, Probleme der Biosynthese sowie Mechanismen der heterogenen Katalyse und der Elektropolymerisation werden untersucht. Die Wirkungsweisen von Lichtschutzstoffen und Elektrokristallisationsadditiven werden aufgeklärt. Die Komplexbildung durch makroheterocyclische Liganden wird thermodynamisch untersucht. Schließlich werden Schaltvorgänge für das Fließ- und Phasenverhalten von Tensidsystemen und für Sensor/Aktorfunktionen in Polymeren durch photochemische Reaktionen heterocyclischer Verbindungen oder Substituenten ausgelöst.Das Studienprogramm hat zum Ziel, eine interdisplinäre Ausbildung der Doktoranden zu gewährleisten, die der Gefahr zu starker Spezialisierung entgegenwirkt. Hierbei werden Synthesechemie (einschließlich Photochemie und Biochemie), Theorie und physikalische Methoden in ausgewogenem Maß angeboten. Die in Dresden traditionell stark vertretene Theorie vermittelt theoretische Konzepte in praktischen Übungen, so dass sie in experimentellen Arbeiten von den Stipendiaten und Kollegiaten angewandt und umgesetzt werden können.\"\n",
    "\n",
    "\n",
    "model = MBartForConditionalGeneration.from_pretrained(\"facebook/mbart-large-50-many-to-many-mmt\")\n",
    "tokenizer = MBart50TokenizerFast.from_pretrained(\"facebook/mbart-large-50-many-to-many-mmt\")\n",
    "\n",
    "# translate Arabic to English\n",
    "tokenizer.src_lang = \"de_DE\"\n",
    "encoded_hi = tokenizer(article_hi, return_tensors=\"pt\")\n",
    "generated_tokens = model.generate(\n",
    "    **encoded_hi,\n",
    "    forced_bos_token_id=tokenizer.lang_code_to_id[\"en_XX\"]\n",
    ")\n",
    "tokenizer.batch_decode(generated_tokens, skip_special_tokens=True)\n"
   ]
  },
  {
   "cell_type": "code",
   "execution_count": 69,
   "id": "fb609f07-8aec-444a-ac3e-56b9cf78d7ed",
   "metadata": {},
   "outputs": [],
   "source": [
    "translate_text_list = [\"Ziel des Graduiertenkollegs ist der Ausbau des Studienangebots und die Förderung von Promotions- und Forschungsvorhaben im Schwerpunkt Nanostrukturphysik.Die Stipendiaten arbeiten in diesem Graduiertenkolleg auf einem höchst aktuellen Forschungsgebiet. Mit modernen technologischen Verfahren ist man heute in der Lage, Festkörper auf der Nanometerskala zu strukturieren. Dies ist besonders interessant, da Quanteneffekte in derartigen Festkörpersystemen zum einen die makroskopischen, physikalischen Eigenschaften dominieren und zum anderen durch Design und Herstellung gezielt abgestimmt werden können. In diesem Graduiertenkolleg fließen die Herstellung, die Charakterisierung, die experimentelle und theoretische Untersuchung sowie die Weiterentwicklung der Instrumentierung zusammen. Es werden bewusst unterschiedliche Materialklassen wie Halbleiter, Supraleiter und magnetische Materialien behandelt, um den Stipendiaten Möglichkeiten zu bieten, Phänomene aus einem breiten Spektrum der Festkörperphysik kennenzulernen. Die geplanten Dissertationsthemen sind so angelegt, dass jeweils intensiver Überlapp mit benachbarten Bereichen besteht. Die Projekte werden in direkter Zusammenarbeit zwischen den beteiligen Arbeitsgruppen bearbeitet, indem zum Beispiel die Erfahrung einer Gruppe in der Herstellung bestimmter Systeme mit den experimentellen Untersuchungsmöglichkeiten einer anderen Gruppe und den theoretischen Methoden einer dritten Gruppe verknüpft werden. Der intensive Austausch wird durch ein abgestimmtes Programm von Vorlesungen, Seminaren und Workshops koordiniert und weiter verstärkt.\",\n",
    " \"Das Ziel dieses neurowissenschaftlichen Graduiertenkollegs besteht in der fachübergreifenden Fort- und Weiterbildung von Doktoranden undPostdoktoranden in den einzelnen Teildisziplinen klinisch bezogenerneurowissenschaftlicher Forschung. Die Verknüpfung naturwissenschaftlicher Grundlagenforschung mit klinisch orientierter Forschung und Ausbildung im neurologischen, neurochirurgischen, psychiatrischen und radiologischen Bereich ist ein Hauptanliegen des Graduiertenkollegs. Es wird damit eine interdisziplinäre Ausbildung von Naturwissenschaftlern und Medizinern angestrebt.Im Mittelpunkt der Forschungsthematik des Graduiertenkollegs stehenUntersuchungen zu Schadensmechanismen im adulten und juvenilen Nervensystem sowie Anpassungsprozesse, die zum Umbau des Nervensystems während der Ontogenese und nach verschiedenen Schädigungen des Nervensystems beitragen.Das Graduiertenkolleg bildet Graduierte in einer Vielzahl neurobiologischer Untersuchungstechniken aus, wobei der Schwerpunkt auf bildgebende Messverfahren [Zweiphotonen- und konfokale Laserscanmikroskopie, Fluoreszenzimaging, Funktionelle Kernspintomographie (fMRI), Nahinfrarot-Spektroskopie (NIRS)] gesetzt wird. Dies wird ergänzt und kombiniert durch molekularbiologische, morphologische, biochemische, biophysikalische und das gesamte Spektrum der elektrophysiologischen Messverfahren.\",\n",
    " \"Nichtlineare Differentialgleichungen spielen eine fundamentaleRolle bei der Modellierung physikalischer, chemischer und ökonomischerProzesse genauso wie bei innermathematischen Fragen. Bei allerVerschiedenheit der modellierten Phänomene sind die auftretendenDifferentialgleichungen oft mathematisch betrachtet von gleichem oder ähnlichem Typ. Im Kolleg sollen in interdisziplinärer Zusammenarbeit die Bereiche Modellierung, Theorie, Numerik und Visualisierung bearbeitet werden. Theoretische Untersuchungen über Existenz, Eindeutigkeit und das Auftreten von Singularitäten geben zum Beispiel Hinweise auf eine möglicherweise inadäquate Modellierung. Umgekehrt kann der theoretisch Arbeitende numerische Lösungen seines Problems graphisch darstellen und daraus neue Anregungen für die Analysis gewinnen. Die numerische Simulation erlaubt dem Anwender oft die Vermeidung teurer Experimente. Das Graduiertenkolleg soll eine in sich geschlossene interdisziplinäreAusbildung der Doktoranden von der Modellierung über die mathematischeTheorie und die theoretische und praktische Numerik bis zurVisualisierung der Ergebnisse vermitteln. Im Rahmen des Kollegs werdenvon auf den Forschungsgebieten bekannte Gastdozenten Kursveranstaltungen angeboten, und die Stipendiaten erhalten die Möglichkeit zu Forschungs- und Kontaktreisen.\",\n",
    " \"Das seit 1996 bestehende Kolleg befasst sich in inter- und transdiziplinärer Arbeit mit ästhetischen, rhetorischen und diskurstheoretischen Fragen der Repräsentation und mit den Konstitutionsbedingungen des Wissens und der wissenschaftlichen Darstellung. Zum Programm gehören neben Forschungs- und Basiskollegs Gastvorträge und regelmäßige Workshops und Tagungen. Das Graduiertenkolleg Repräsentation - Rhetork - Wissen ist Teil eines gemeinsamen transatlantischen Doktoranden- und Postdoktorandenprogramms, das von dem Heinrich-von-Kleist-Institut für Literatur und Politik, der Europa-Universität Viadrina Frankfurt/Oder, dem Poetics and Theory Institute, New York University, und der Amsterdam School for Cultural Analysis (ASCA) betrieben wird. Es ermöglicht den Doktoranden und Postdoktoranden aus Europa und den USA, ihre Projekte im internationalen Austausch zu entwickeln und während der Zeit ihrer Förderung das Studienprogramm einer führenden amerikanischen Universität zu nutzen.\",\n",
    " \"Nichtlineare kontinuierliche Systeme sind von größter Bedeutung für fast alle Naturwissenschaften und für viele andere Gebiete. Bisher fehlt eine hinreichend einheitliche Betrachtungsweise und ein befriedigendes Verständnis. Beides scheint heute aufgrund neuer mathematisch-analytischer Methoden, schneller Numerik und effizienter Bilderfassung und -verarbeitung möglich zu sein. Mit dem Ziel eines disziplinübergreifenden Verständnisses werden nichtlineare Systeme mit vielen Freiheitsgraden untersucht. Von besonderer Bedeutung sind Reaktions-Diffusions-Systeme, optische Systeme, Quantensysteme, Probleme der Dekonvolution und inverse Streuprozesse sowie die Ausbreitung nichtlinearer Wellen. Die Behandlung selbstorganisierter Strukturen und deren Bifurkationsverhalten ist für alle Teilnehmer ein zentrales Thema. Außerdem ist der qualitative und quantitative Vergleich von Experiment und Theorie von großer Bedeutung. Schließlich soll das Augenmerk auch auf potentielle Anwendungen in Physik, Technik, Umweltschutz und Medizin gerichtet werden.\",\n",
    "\"Der thematische Schwerpunkt des Graduiertenkollegs an der Medizinischen Fakultät liegt in der theoretischen und klinischen Grundlagenforschung der Neurobiologie. Da die modernen Neurowissenschaften interdisziplinär ausgerichtet sind, soll durch die Einrichtung des Graduiertenkollegs diese Interdisziplinarität gefördert und der wissenschaftliche Nachwuchs befähigt werden, die fachspezifischen Grenzen der eigenen Doktorarbeit zu überwinden. Das Graduiertenkolleg wurde 1996 eingerichtet. Der Förderzeitraum beträgt jeweils 3 Jahre. Das Spektrum der experimentellen Arbeiten umfasst alle Ebenen der Entstehung von Störungen im Nervensystem, der Protektion von Nervenzellen sowie der Diagnostik und Rehabilitation. Die übergreifende Thematik des Graduiertenkollegs, die biologischen Grundlagen von Erkrankungen im Nervensystem, ermöglicht es, klinisch relevante Projekte der neurobiologischen Grundlagenforschung im Verbund durchzuführen. Die Kollegiaten arbeiten an ihrem individuellen Dissertationsvorhaben, welches von einem der beteiligten Hochschullehrer betreut wird. Außerdem nehmen sie an dem von den Hochschullehrern gemeinsam getragenen und durch Gastwissenschaftler ergänzten Ausbildungsprogramm teil, das neben der kontinuierlichen Kommunikation zwischen den am Kolleg Beteiligten auch spezielle Lehrveranstaltungen, Praktika, Kolloquien sowie Austauschaufenthalte in auswärtigen Instituten und Labors und kleinere Workshops enthält. Neben der Medizinischen Fakultät und dem Leibniz-Institut für Neurobiologie tragen Forscher des Instituts für Biologie, Psychologie sowie der Fakultäten für Ingenieurwissenschaften und Verfahrenstechnik in Magdeburg zum interdisziplinären neurowissenschaftlichen Profil bei. Als ein Erfolg dieser gemeinsamen Anstrengungen wurde an der Otto-von-Guericke Universität 1999 ein Studienprogramm Neurowissenschaften, im Rahmen eines neu etablierten Studiengangs Neurowissenschaften/Neurobiologie, mit Diplomabschluß oder Master of Science, angeboten.\",\n",
    "\"Das Forschungsinteresse des Graduiertenkollegs ist die interdisziplinäre Erforschung der mittelalterlichen und frühneuzeitlichen Wissenschafts- und Bildungsprozesse vom ausgehenden 11. bis zur Mitte des 18. Jahrhunderts. Insbesondere sollen erforscht werden das Verständnis von Wissenschaft, die Entwicklung der Universitäten, die geistigen Strömungen und die literarischen und künstlerischen Formen, in denen diese erkennbar werden.Das Ziel des Kollegs ist, die einzelnen Forschungsvorhaben fürinterdisziplinäre Fragestellungen zu öffnen und so zu einemGesamtverständnis der Entwicklungen beizutragen.\",\n",
    "\"Ziel dieses fächerübergreifenden geowissenschaftlichen Graduiertenkollegs ist die Erforschung der Einwirkung fluider Phasen auf Locker- und Festgesteine, aber auch der Wechselwirkungen zwischen Gesteinen und Geofluiden. Übergeordnete Gemeinsamkeit aller Einzelprojekte ist, dass bewegte Fluide gelöste Stoffe transportieren, die untereinander und mit Mineraloberflächen reagieren. Das Graduiertenkolleg bündelt wissenschaftliche Aktivitäten von Heidelberger Universitätsinstituten, die an der Fakultät für Geowissenschaften und der Fakultät für Physik und Astronomie angesiedelt sind, sowie dem Max-Planck-Institut für Physik und Astronomie. Der fachübergreifende Forschungsansatz umfasst folgende Teilbereiche: (A) Hydrogeochemische Prozesse in limnischen Systemen, (B) Alterationsprozesse in Festgesteinen, (C) Strukturgeologisch gesteuerte Fluidentwicklungen.\",\n",
    "\"Im Graduiertenkolleg werden interdisziplinär sowohl experimentell als auch theoretisch die Struktur und Dynamik von ausgewählten heterogenen Systemen untersucht, die in einigen Bereichen der Biologie, Chemie und Physik von grundlegender Bedeutung sind. Schwerpunktmässig werden Struktur und Relaxationsprozesse grosser Moleküle sowie nichtmagnetischer und magnetischer Cluster in komplexer Umgebung untersucht. Zu nennen sind z.B. Moleküle für optoelektronische Materialien, der Chromophor des Rhodopsins in der Netzhaut der Augen von Wirbeltieren, grosse Aggregate aus Kalium, Zinn, Eisen und Kobalt auf Silizium-, Titandioxid- und Eisen(II)-chlorid-Oberflächen. Wesentlich hierbei ist das Wechselspiel zwischen dem Grad der Heterogenität und resultierender Dynamik. Durch das interdisziplinäre Konzept werden Methoden in Forschung und Lehre eingebracht, die in dieser Form während des Studiums sonst nicht vermittelt werden.\",\n",
    "\"In den letzten Jahren ist es zunehmend deutlich geworden, dassBegriffsbildungen und Methoden der mathematischen Logik in derInformatik mit großem Nutzen angewendet werden können undsollten. Insbesondere Beweistheorie, Modelltheorie, Mengenlehre undTypentheorie haben sich hier als sehr fruchtbar erwiesen, erfordernaber noch gezielteren Zuschnitt. Die Arbeit im Kolleg stellt daraufab, die Anwendbarkeit logischer Methoden beim Entwurf, derSpezifikation, der Verifikation und der Optimierung von Programmen,Programmsystemen und Schaltungen weiter zu verbessern undauszudehnen. In Zusammenarbeit mit beteiligten Industrieunternehmenwerden realistische Problemstellungen aus verschiedenen Strukturebenender Informatik mit dem Arsenal der modernen theoretischen Informatikkonfrontiert. In der Interaktion der einzelnen beteiligtenFachrichtungen ergibt sich dabei eine fruchtbare Synthese ausGrundlagenforschung und Anwendungsnähe.\" ]\n",
    " "
   ]
  },
  {
   "cell_type": "code",
   "execution_count": 71,
   "id": "eed82672-c37b-44a8-a32b-77948bfd4c87",
   "metadata": {},
   "outputs": [
    {
     "name": "stdout",
     "output_type": "stream",
     "text": [
      "17.47876 sec\n",
      "18.48399 sec\n",
      "18.84262 sec\n",
      "18.43422 sec\n",
      "17.29373 sec\n",
      "17.44434 sec\n",
      "9.67748 sec\n",
      "17.10680 sec\n",
      "17.01786 sec\n",
      "14.74957 sec\n"
     ]
    }
   ],
   "source": [
    "translated_text_list = []\n",
    "tokenizer.src_lang = \"de_DE\"\n",
    "\n",
    "for sentence in translate_text_list:\n",
    "    start = time.time()\n",
    "    encoded_hi = tokenizer(sentence, return_tensors=\"pt\")\n",
    "    generated_tokens = model.generate(\n",
    "        **encoded_hi,\n",
    "        forced_bos_token_id=tokenizer.lang_code_to_id[\"en_XX\"]\n",
    "    )\n",
    "    translated_text_list.append(tokenizer.batch_decode(generated_tokens, skip_special_tokens=True))\n",
    "    end = time.time()\n",
    "    print(f\"{end - start:.5f} sec\")"
   ]
  },
  {
   "cell_type": "markdown",
   "id": "b588a506-3a55-4442-9a27-73ce6d4e914d",
   "metadata": {},
   "source": [
    "## 일본어 -> 영어"
   ]
  },
  {
   "cell_type": "code",
   "execution_count": 78,
   "id": "9e21ad70-1c6d-4d13-bf35-1c06cbf083dc",
   "metadata": {},
   "outputs": [],
   "source": [
    "translate_text_list_ja = [\"側根形成時に細胞分裂の制限に働くミトコンドリアｍＲＮＡ転写後制御ネットワーク\",\n",
    "                       \"新しい結合概念を基礎とした電子構造理論の確立と金属触媒反応への化学的洞察\",\n",
    "                       \"戦争体験の普遍化に関する社会学的研究：アメリカにおけるヒロシマ・ナガサキ\",\n",
    "                       \"π共役と主鎖らせんからなる革新的刺激応答性ブロック共重合体の創成\",\n",
    "                       \"古生代におけるゴンドワナ北東縁の大陸分裂から解くアジア東縁の古地理変遷\",\n",
    "                       \"神経変性疾患における免疫依存性神経細胞障害機序の解析\",\n",
    "                       \"ベルクソン哲学の成り立ちと構造：『物質と記憶』を中心として\",\n",
    "                       \"クロマチン状態がゲノム不安定性リスクに及ぼす影響と、その制御メカニズムの研究\",\n",
    "                       \"他者に抱く不安が安心感へと変遷する神経メカニズムの解明\",\n",
    "                       \"赤外応答型数珠つなぎ金ナノ粒子の作製法確立とその赤外ガスセンサ応用\"]"
   ]
  },
  {
   "cell_type": "code",
   "execution_count": 79,
   "id": "3e5cf99c-5cf2-4e24-9416-b9e903f77208",
   "metadata": {},
   "outputs": [
    {
     "name": "stdout",
     "output_type": "stream",
     "text": [
      "2.25036 sec\n",
      "2.37753 sec\n",
      "1.97273 sec\n",
      "2.54146 sec\n",
      "3.20266 sec\n",
      "2.03790 sec\n",
      "1.85978 sec\n",
      "2.11211 sec\n",
      "2.18832 sec\n",
      "3.18651 sec\n"
     ]
    }
   ],
   "source": [
    "translated_text_list_ja = []\n",
    "tokenizer.src_lang = \"ja_XX\"\n",
    "\n",
    "for sentence in translate_text_list_ja:\n",
    "    start = time.time()\n",
    "    encoded_hi = tokenizer(sentence, return_tensors=\"pt\")\n",
    "    generated_tokens = model.generate(\n",
    "        **encoded_hi,\n",
    "        forced_bos_token_id=tokenizer.lang_code_to_id[\"en_XX\"]\n",
    "    )\n",
    "    translated_text_list_ja.append(tokenizer.batch_decode(generated_tokens, skip_special_tokens=True))\n",
    "    end = time.time()\n",
    "    print(f\"{end - start:.5f} sec\")"
   ]
  },
  {
   "cell_type": "code",
   "execution_count": 80,
   "id": "e5b484bd-1948-4609-9cef-75d05a8e0745",
   "metadata": {},
   "outputs": [
    {
     "data": {
      "text/plain": [
       "[['Post-transmission control network of mitochondrial mRNA that works to limit cell division during lateral root formation'],\n",
       " ['Establishment of electron structure theory based on new binding concepts and chemical insight into metal catalytic reactions'],\n",
       " ['Social Studies on the Universalization of War Experience: Hiroshima Nagasaki in the United States'],\n",
       " ['Creation of an innovative stimulating-responsive block copolymer composed of π co-operation and main chain axons'],\n",
       " ['Ancient Geography Changes on the Eastern Side of Asia Resolving the Continental Divide at the Northeast Border of Gondwana in the Ancient Age'],\n",
       " ['Analysis of the mechanisms of immuno-dependent neuronal disorders in neurodegenerative diseases'],\n",
       " [\"Birth and Structure of Berkson's Philosophy: Materials and Memory\"],\n",
       " ['Effects of Chromatin Conditions on Genome Instability Risks and Their Control Mechanism'],\n",
       " ['Evidence of a Neural Mechanism in which the anxiety of others transforms into a sense of security'],\n",
       " ['Establishment of the method of making and application of infrared gas sensors for nanoparticles of infrared-response-type pearl-linked gold']]"
      ]
     },
     "execution_count": 80,
     "metadata": {},
     "output_type": "execute_result"
    }
   ],
   "source": [
    "translated_text_list_ja"
   ]
  }
 ],
 "metadata": {
  "kernelspec": {
   "display_name": "Python 3 (ipykernel)",
   "language": "python",
   "name": "python3"
  },
  "language_info": {
   "codemirror_mode": {
    "name": "ipython",
    "version": 3
   },
   "file_extension": ".py",
   "mimetype": "text/x-python",
   "name": "python",
   "nbconvert_exporter": "python",
   "pygments_lexer": "ipython3",
   "version": "3.8.10"
  }
 },
 "nbformat": 4,
 "nbformat_minor": 5
}
